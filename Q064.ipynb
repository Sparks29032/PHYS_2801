{
 "cells": [
  {
   "cell_type": "code",
   "execution_count": 84,
   "id": "8737462b",
   "metadata": {},
   "outputs": [
    {
     "data": {
      "image/png": "[encoded data removed]",
      "text/plain": [
       "<Figure size 432x288 with 1 Axes>"
      ]
     },
     "metadata": {
      "needs_background": "light"
     },
     "output_type": "display_data"
    }
   ],
   "source": [
    "#PART A\n",
    "\n",
    "#first we set up the initial conditions\n",
    "import math\n",
    "pos = [1.48 * (10 ** 11), 0]\n",
    "vel = [0, 1.5 * (10 ** 4)]\n",
    "\n",
    "#then we set up acceleration\n",
    "def accel (pos):\n",
    "    #this is the distance Earth is from the Sun\n",
    "    r = math.sqrt(pos[0] ** 2 + pos[1] ** 2)\n",
    "    #gravitational constant\n",
    "    G = 6.67 / (10 ** 11)\n",
    "    #mass of the sun\n",
    "    M_s = 1.99 * (10 ** 30)\n",
    "    #return g = GM_s/r^2 and use pos[0]/r for x and pos[1]/r for y\n",
    "    return [-1 * G * M_s / (r ** 2) * pos[0] / r, -1 * G * M_s / (r ** 2) * pos[1] / r]\n",
    "\n",
    "#set up steps\n",
    "t_step = 1000\n",
    "t_max = 3600 * 24 * 365\n",
    "t = 0\n",
    "\n",
    "#set up initial leapfrog condition\n",
    "acc = accel(pos)\n",
    "vel[0] += acc[0] * t_step / 2\n",
    "vel[1] += acc[1] * t_step / 2\n",
    "\n",
    "#where we'll store our x, y values in position\n",
    "x = []\n",
    "y = []\n",
    "\n",
    "#start the loop\n",
    "while t * t_step <= t_max:\n",
    "    #add to x, y\n",
    "    x.append(pos[0])\n",
    "    y.append(pos[1])\n",
    "    \n",
    "    #find the new position\n",
    "    pos[0] += vel[0] * t_step\n",
    "    pos[1] += vel[1] * t_step\n",
    "    \n",
    "    #find new acceleration\n",
    "    acc = accel(pos)\n",
    "    \n",
    "    #find new velocity\n",
    "    vel[0] += acc[0] * t_step\n",
    "    vel[1] += acc[1] * t_step\n",
    "    \n",
    "    #increment timestep\n",
    "    t += 1\n",
    "\n",
    "#plot it\n",
    "import matplotlib.pyplot as plt\n",
    "fig = plt.figure()\n",
    "sp = fig.add_subplot(1, 1, 1)\n",
    "sp.plot(x, y, 'black')\n",
    "sp.add_patch(plt.Circle((0, 0), 10 ** 10, color='y'))\n",
    "sp.add_patch(plt.Circle((1.48 * (10 ** 11), 0), 3 * 10 ** 9, color='b'))\n",
    "plt.title(\"Earth's orbit under new conditions\")\n",
    "plt.show(sp)"
   ]
  },
  {
   "cell_type": "code",
   "execution_count": 73,
   "id": "c0377167",
   "metadata": {},
   "outputs": [
    {
     "name": "stdout",
     "output_type": "stream",
     "text": [
      "The smallest distance between the Earth and Sun in this orbit is: 21227966949.127472 meters.\n"
     ]
    }
   ],
   "source": [
    "#PART B\n",
    "\n",
    "#set up initial conditions\n",
    "pos = [1.48 * (10 ** 11), 0]\n",
    "vel = [0, 1.5 * (10 ** 4)]\n",
    "\n",
    "#set minimum distance to initial distance\n",
    "r_min = math.sqrt(pos[0] ** 2 + pos[1] ** 2)\n",
    "\n",
    "#then we set up acceleration\n",
    "def accel (pos):\n",
    "    #this is the distance Earth is from the Sun\n",
    "    r = math.sqrt(pos[0] ** 2 + pos[1] ** 2)\n",
    "    #gravitational constant\n",
    "    G = 6.67 / (10 ** 11)\n",
    "    #mass of the sun\n",
    "    M_s = 1.99 * (10 ** 30)\n",
    "    #return g = GM_s/r^2 and use pos[0]/r for x and pos[1]/r for y\n",
    "    return [-1 * G * M_s / (r ** 2) * pos[0] / r, -1 * G * M_s / (r ** 2) * pos[1] / r]\n",
    "\n",
    "#set up steps\n",
    "t_step = 1000\n",
    "t_max = 3600 * 24 * 365\n",
    "t = 0\n",
    "\n",
    "#set up initial leapfrog condition\n",
    "acc = accel(pos)\n",
    "vel[0] += acc[0] * t_step / 2\n",
    "vel[1] += acc[1] * t_step / 2\n",
    "\n",
    "#where we'll store our x, y values in position\n",
    "x = []\n",
    "y = []\n",
    "\n",
    "#start the loop\n",
    "while t * t_step <= t_max:\n",
    "    #add to x, y\n",
    "    x.append(pos[0])\n",
    "    y.append(pos[1])\n",
    "    \n",
    "    #find the new position\n",
    "    pos[0] += vel[0] * t_step\n",
    "    pos[1] += vel[1] * t_step\n",
    "    \n",
    "    #check if the current radius is the smallest radius since\n",
    "    if math.sqrt(pos[0] ** 2 + pos[1] ** 2) < r_min:\n",
    "        r_min = math.sqrt(pos[0] ** 2 + pos[1] ** 2)\n",
    "    \n",
    "    #find new acceleration\n",
    "    acc = accel(pos)\n",
    "    \n",
    "    #find new velocity\n",
    "    vel[0] += acc[0] * t_step\n",
    "    vel[1] += acc[1] * t_step\n",
    "    \n",
    "    #increment timestep\n",
    "    t += 1\n",
    "\n",
    "#say what the smallest orbit is\n",
    "print(\"The smallest distance between the Earth and Sun in this orbit is: \" + str(r_min) + \" meters.\")"
   ]
  },
  {
   "cell_type": "code",
   "execution_count": 80,
   "id": "17c73e3e",
   "metadata": {},
   "outputs": [],
   "source": [
    "#PART C\n",
    "#At each time step, let's calculate the energies\n",
    "\n",
    "#PART B\n",
    "\n",
    "#set up initial conditions\n",
    "pos = [1.48 * (10 ** 11), 0]\n",
    "vel = [0, 1.5 * (10 ** 4)]\n",
    "\n",
    "#gravitational constant\n",
    "G = 6.67 / (10 ** 11)\n",
    "#mass of the sun\n",
    "M_s = 1.99 * (10 ** 30)\n",
    "#mass of the earth\n",
    "M_e = 6 * (10 ** 24)\n",
    "\n",
    "#set minimum distance to initial distance\n",
    "r_min = math.sqrt(pos[0] ** 2 + pos[1] ** 2)\n",
    "\n",
    "#then we set up acceleration\n",
    "def accel (pos):\n",
    "    #this is the distance Earth is from the Sun\n",
    "    r = math.sqrt(pos[0] ** 2 + pos[1] ** 2)\n",
    "    #return g = GM_s/r^2 and use pos[0]/r for x and pos[1]/r for y\n",
    "    return [-1 * G * M_s / (r ** 2) * pos[0] / r, -1 * G * M_s / (r ** 2) * pos[1] / r]\n",
    "\n",
    "#set up steps\n",
    "t_step = 1000\n",
    "t_max = 3600 * 24 * 365\n",
    "t = 0\n",
    "\n",
    "#set up initial leapfrog condition\n",
    "acc = accel(pos)\n",
    "vel[0] += acc[0] * t_step / 2\n",
    "vel[1] += acc[1] * t_step / 2\n",
    "\n",
    "#where we'll store our KE, PE values in position\n",
    "KE = []\n",
    "PE = []\n",
    "TME = []\n",
    "time = []\n",
    "\n",
    "#start the loop\n",
    "while t * t_step <= t_max:\n",
    "    #add to KE, PE, t\n",
    "    KE.append((1 / 2) * M_e * (vel[0] ** 2 + vel[1] ** 2))\n",
    "    PE.append(-G * M_e * M_s / math.sqrt(pos[0] ** 2 + pos[1] ** 2))\n",
    "    TME.append((1 / 2) * M_e * (vel[0] ** 2 + vel[1] ** 2) + -G * M_e * M_s / math.sqrt(pos[0] ** 2 + pos[1] ** 2))\n",
    "    time.append(t * t_step / (3600 * 24))\n",
    "    \n",
    "    #find the new position\n",
    "    pos[0] += vel[0] * t_step\n",
    "    pos[1] += vel[1] * t_step\n",
    "    \n",
    "    #check if the current radius is the smallest radius since\n",
    "    if math.sqrt(pos[0] ** 2 + pos[1] ** 2) < r_min:\n",
    "        r_min = math.sqrt(pos[0] ** 2 + pos[1] ** 2)\n",
    "    \n",
    "    #find new acceleration\n",
    "    acc = accel(pos)\n",
    "    \n",
    "    #find new velocity\n",
    "    vel[0] += acc[0] * t_step\n",
    "    vel[1] += acc[1] * t_step\n",
    "    \n",
    "    #increment timestep\n",
    "    t += 1"
   ]
  },
  {
   "cell_type": "code",
   "execution_count": 85,
   "id": "f003cc86",
   "metadata": {},
   "outputs": [
    {
     "data": {
      "image/png": "[encoded data removed]",
      "text/plain": [
       "<Figure size 432x288 with 1 Axes>"
      ]
     },
     "metadata": {
      "needs_background": "light"
     },
     "output_type": "display_data"
    },
    {
     "name": "stdout",
     "output_type": "stream",
     "text": [
      "The total energy is constant at around -4.704799308432887e+33 Joules.\n"
     ]
    }
   ],
   "source": [
    "#PART D\n",
    "#Let's plot potentential and kinetic energies now\n",
    "fig = plt.figure()\n",
    "sp = fig.add_subplot(1, 1, 1)\n",
    "sp.plot(time, KE, 'green', label=\"Kinetic Energy\")\n",
    "sp.plot(time, PE, 'red', label=\"Potential Energy\")\n",
    "sp.plot(time, TME, 'black', label=\"Total Mechanical Energy\")\n",
    "plt.legend(loc=\"upper left\")\n",
    "plt.title(\"Energies\")\n",
    "plt.xlabel(\"Time in Days\")\n",
    "plt.ylabel(\"Energy in Joules\")\n",
    "plt.show(sp)\n",
    "\n",
    "#find how much energy we have\n",
    "print(\"The total energy is constant at around \" + str(TME[len(TME) - 1]) + \" Joules.\")"
   ]
  },
  {
   "cell_type": "code",
   "execution_count": 78,
   "id": "18a3aa33",
   "metadata": {},
   "outputs": [
    {
     "name": "stdout",
     "output_type": "stream",
     "text": [
      "The amount of energy non-conserved with a step size of 1000 seconds is 1.2682591346809067e+30 Joules.\n",
      "As a percentage, this is 0.02694944593276279% that is lost.\n",
      "As this percent is small, that means energy is mostly conserved.\n"
     ]
    }
   ],
   "source": [
    "#PART E\n",
    "#find final energy\n",
    "TME_fin = TME[len(TME) - 1]\n",
    "\n",
    "#find initial energy\n",
    "pos = [1.48 * (10 ** 11), 0]\n",
    "vel = [0, 1.5 * (10 ** 4)]\n",
    "TME_ini = (1 / 2) * M_e * (vel[0] ** 2 + vel[1] ** 2) + -G * M_e * M_s / math.sqrt(pos[0] ** 2 + pos[1] ** 2)\n",
    "\n",
    "#find the difference\n",
    "print(\"The amount of energy non-conserved with a step size of 1000 seconds is \" + str(abs(TME_ini - TME_fin)) + \" Joules.\")\n",
    "print(\"As a percentage, this is \" + str(100 * abs(TME_ini - TME_fin) / abs(TME_ini)) + \"% that is lost.\")\n",
    "print(\"As this percent is small, that means energy is mostly conserved.\")"
   ]
  }
 ],
 "metadata": {
  "kernelspec": {
   "display_name": "Python 3",
   "language": "python",
   "name": "python3"
  },
  "language_info": {
   "codemirror_mode": {
    "name": "ipython",
    "version": 3
   },
   "file_extension": ".py",
   "mimetype": "text/x-python",
   "name": "python",
   "nbconvert_exporter": "python",
   "pygments_lexer": "ipython3",
   "version": "3.8.8"
  }
 },
 "nbformat": 4,
 "nbformat_minor": 5
}
